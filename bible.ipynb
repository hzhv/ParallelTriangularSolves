{
 "cells": [
  {
   "cell_type": "code",
   "execution_count": 1,
   "metadata": {},
   "outputs": [],
   "source": [
    "import numpy as np"
   ]
  },
  {
   "cell_type": "code",
   "execution_count": 4,
   "metadata": {},
   "outputs": [
    {
     "name": "stdout",
     "output_type": "stream",
     "text": [
      "[[1 0 0 0]\n",
      " [0 2 0 0]\n",
      " [0 0 3 0]\n",
      " [0 0 0 4]]\n",
      "[[1 2 3 4]\n",
      " [1 2 3 4]\n",
      " [1 2 3 4]\n",
      " [1 2 3 4]]\n"
     ]
    }
   ],
   "source": [
    "# Create a diagonal matrix\n",
    "D = np.diag([1, 2, 3, 4])\n",
    "print(D)\n",
    "\n",
    "A = np.array([[1, 2, 3, 4], [1,2, 3, 4], [1, 2, 3, 4], [1, 2, 3, 4]])\n",
    "print(A)\n"
   ]
  },
  {
   "cell_type": "code",
   "execution_count": 13,
   "metadata": {},
   "outputs": [
    {
     "name": "stdout",
     "output_type": "stream",
     "text": [
      "[[ 1  2  3  4]\n",
      " [ 2  4  6  8]\n",
      " [ 3  6  9 12]\n",
      " [ 4  8 12 16]]\n",
      "\n",
      "[[ 1  4  9 16]\n",
      " [ 1  4  9 16]\n",
      " [ 1  4  9 16]\n",
      " [ 1  4  9 16]]\n",
      "\n",
      "[[ 1  0  0  0]\n",
      " [ 0  4  0  0]\n",
      " [ 0  0  9  0]\n",
      " [ 0  0  0 16]]\n"
     ]
    }
   ],
   "source": [
    "print(D @ A) # row scaling\n",
    "print()\n",
    "print(A @ D) # col scaling\n",
    "print()\n",
    "print(D @ D) # row and col scaling"
   ]
  },
  {
   "cell_type": "code",
   "execution_count": 14,
   "metadata": {},
   "outputs": [
    {
     "name": "stdout",
     "output_type": "stream",
     "text": [
      "Upper Triangular Matrix U1:\n",
      "[[5 4 3 5]\n",
      " [0 6 5 3]\n",
      " [0 0 2 5]\n",
      " [0 0 0 6]]\n",
      "\n",
      "Upper Triangular Matrix U2:\n",
      "[[7 5 4 1]\n",
      " [0 8 2 4]\n",
      " [0 0 8 5]\n",
      " [0 0 0 6]]\n",
      "\n",
      "Result of U1 @ U2:\n",
      "[[35 57 52 66]\n",
      " [ 0 48 52 67]\n",
      " [ 0  0 16 40]\n",
      " [ 0  0  0 36]]\n"
     ]
    }
   ],
   "source": [
    "# Create two upper triangular matrices\n",
    "U1 = np.triu(np.random.randint(1, 10, size=(4, 4)))\n",
    "U2 = np.triu(np.random.randint(1, 10, size=(4, 4)))\n",
    "\n",
    "print(\"Upper Triangular Matrix U1:\")\n",
    "print(U1)\n",
    "print(\"\\nUpper Triangular Matrix U2:\")\n",
    "print(U2)\n",
    "\n",
    "# Matrix multiplication of the two upper triangular matrices\n",
    "result = U1 @ U2\n",
    "\n",
    "print(\"\\nResult of U1 @ U2:\")\n",
    "print(result)"
   ]
  },
  {
   "cell_type": "code",
   "execution_count": null,
   "metadata": {},
   "outputs": [
    {
     "name": "stdout",
     "output_type": "stream",
     "text": [
      "Matrix 1:\n",
      "[[1 1 5 9 8 7]\n",
      " [5 5 5 4 7 5]\n",
      " [6 9 2 7 7 4]\n",
      " [8 5 3 1 8 7]\n",
      " [8 9 1 3 1 7]\n",
      " [2 2 6 5 8 5]]\n",
      "\n",
      "Matrix 2:\n",
      "[[4 1 4 3 3 1]\n",
      " [9 2 7 9 2 8]\n",
      " [2 3 1 6 5 7]\n",
      " [3 8 3 7 3 2]\n",
      " [3 4 1 2 3 9]\n",
      " [3 1 7 6 8 1]]\n",
      "\n",
      "Result of Matrix 1 @ Matrix 2:\n",
      "[[ 95 129 100 163 137 141]\n",
      " [123  95 114 162 123 156]\n",
      " [163 118 145 198 120 173]\n",
      " [131  74 130 152 132 150]\n",
      " [148  64 155 176 115 109]\n",
      " [ 92 101  86 141 119 147]]\n"
     ]
    }
   ],
   "source": [
    "matrix1 = np.random.randint(1, 10, size=(6, 6))\n",
    "matrix2 = np.random.randint(1, 10, size=(6, 6))\n",
    "\n",
    "print(\"Matrix 1:\")\n",
    "print(matrix1)\n",
    "print(\"\\nMatrix 2:\")\n",
    "print(matrix2)\n",
    "\n",
    "result_6x6 = matrix1 @ matrix2\n",
    "\n",
    "print(\"\\nResult of Matrix 1 @ Matrix 2:\")\n",
    "print(result_6x6)"
   ]
  },
  {
   "cell_type": "code",
   "execution_count": 18,
   "metadata": {},
   "outputs": [
    {
     "name": "stdout",
     "output_type": "stream",
     "text": [
      "[[ 95 129]\n",
      " [123  95]]\n"
     ]
    }
   ],
   "source": [
    "A1 = np.array([[1, 1, 5, 9, 8, 7], [5,5,5,4,7,5]])\n",
    "B2 = np.array([[4, 1],[9, 2],[2, 3],[3, 8],[3, 4],[3, 1]])\n",
    "C = A1 @ B2\n",
    "print(C)"
   ]
  },
  {
   "cell_type": "code",
   "execution_count": null,
   "metadata": {},
   "outputs": [],
   "source": []
  }
 ],
 "metadata": {
  "kernelspec": {
   "display_name": "base",
   "language": "python",
   "name": "python3"
  },
  "language_info": {
   "codemirror_mode": {
    "name": "ipython",
    "version": 3
   },
   "file_extension": ".py",
   "mimetype": "text/x-python",
   "name": "python",
   "nbconvert_exporter": "python",
   "pygments_lexer": "ipython3",
   "version": "3.10.9"
  }
 },
 "nbformat": 4,
 "nbformat_minor": 2
}
